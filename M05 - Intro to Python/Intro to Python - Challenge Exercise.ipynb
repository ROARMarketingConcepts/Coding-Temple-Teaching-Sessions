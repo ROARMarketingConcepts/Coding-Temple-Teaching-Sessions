{
 "cells": [
  {
   "cell_type": "markdown",
   "id": "f4291d3a-8b4a-439d-8374-3745aec1ea32",
   "metadata": {},
   "source": [
    "## Introduction to Python Challenge Exercises¶"
   ]
  },
  {
   "cell_type": "code",
   "execution_count": 1,
   "id": "689bbc74-708e-4387-bdfc-e8218bf1eb8f",
   "metadata": {},
   "outputs": [],
   "source": [
    "# Shopping items and their prices\n",
    "items = [\"apple\", \"banana\", \"bread\", \"milk\", \"eggs\"]\n",
    "prices = [0.50, 0.30, 2.50, 3.00, 2.80]\n",
    "\n",
    "# Shopping cart\n",
    "cart = [\"bread\", \"milk\", \"milk\", \"banana\", \"banana\", \"eggs\"]\n",
    "\n",
    "# Item categories\n",
    "fruits = [\"apple\", \"banana\"]\n",
    "dairy = [\"milk\", \"eggs\"]\n",
    "bakery = [\"bread\"]"
   ]
  },
  {
   "cell_type": "markdown",
   "id": "ea821a10-52cb-46ae-a0e3-0ae9783c9de1",
   "metadata": {},
   "source": [
    "1. **Simple List Operations**\n",
    "    - Print how many items are in the cart.\n",
    "    - Create a list of unique items in the cart.\n",
    "    - Count how many bananas are in the cart."
   ]
  },
  {
   "cell_type": "code",
   "execution_count": 2,
   "id": "0a0360c9-bd24-4d4c-b942-b96a6e977d3f",
   "metadata": {},
   "outputs": [
    {
     "name": "stdout",
     "output_type": "stream",
     "text": [
      "Number of items in cart: 6\n",
      "Unique items in cart: ['eggs', 'milk', 'bread', 'banana']\n",
      "Number of bananas in cart: 2\n"
     ]
    }
   ],
   "source": [
    "print(f\"Number of items in cart: {len(cart)}\")\n",
    "print(f\"Unique items in cart: {list(set(cart))}\")\n",
    "print(f\"Number of bananas in cart: {cart.count('banana')}\")"
   ]
  },
  {
   "cell_type": "markdown",
   "id": "481e44dc-0388-4378-a255-2b5604e2df88",
   "metadata": {},
   "source": [
    "2. **Basic Calculations**\n",
    "    - Calculate the total price of the cart.\n"
   ]
  },
  {
   "cell_type": "code",
   "execution_count": 3,
   "id": "0c84ea0f-60fe-4974-911f-694eee5b6be8",
   "metadata": {},
   "outputs": [
    {
     "data": {
      "text/plain": [
       "{'apple': 0.5, 'banana': 0.3, 'bread': 2.5, 'milk': 3.0, 'eggs': 2.8}"
      ]
     },
     "execution_count": 3,
     "metadata": {},
     "output_type": "execute_result"
    }
   ],
   "source": [
    "price_dict = dict(zip(items, prices))\n",
    "price_dict"
   ]
  },
  {
   "cell_type": "code",
   "execution_count": 4,
   "id": "02024d61-830e-4548-8ef5-18063502afb3",
   "metadata": {},
   "outputs": [
    {
     "data": {
      "text/plain": [
       "11.9"
      ]
     },
     "execution_count": 4,
     "metadata": {},
     "output_type": "execute_result"
    }
   ],
   "source": [
    "total = 0\n",
    "for item in cart:\n",
    "    total += price_dict[item]\n",
    "round(total,2)"
   ]
  },
  {
   "cell_type": "markdown",
   "id": "2c018504-6f8e-4d95-9432-a01331bd58d0",
   "metadata": {},
   "source": [
    "Create a list of items that cost less than $1."
   ]
  },
  {
   "cell_type": "code",
   "execution_count": 5,
   "id": "e4b04417-7574-4ef4-9964-7df4eb112d8a",
   "metadata": {},
   "outputs": [
    {
     "data": {
      "text/plain": [
       "['bread', 'milk', 'eggs']"
      ]
     },
     "execution_count": 5,
     "metadata": {},
     "output_type": "execute_result"
    }
   ],
   "source": [
    "[item for item in price_dict.keys() if price_dict[item] > 1.0]"
   ]
  },
  {
   "cell_type": "markdown",
   "id": "11733eec-f253-44bb-81d6-499706b49194",
   "metadata": {},
   "source": [
    "Print each item and its price using f-strings. Format the output as `\"Item: $Price\"` (e.g., `\"Apple: $0.50\"`)."
   ]
  },
  {
   "cell_type": "code",
   "execution_count": 6,
   "id": "e1201f8b-f9bc-47a5-b737-bfc96a287f11",
   "metadata": {},
   "outputs": [
    {
     "name": "stdout",
     "output_type": "stream",
     "text": [
      "apple: $0.5\n",
      "banana: $0.3\n",
      "bread: $2.5\n",
      "milk: $3.0\n",
      "eggs: $2.8\n"
     ]
    }
   ],
   "source": [
    "for item, price in price_dict.items():\n",
    "    print(f\"{item}: ${price}\")"
   ]
  },
  {
   "cell_type": "markdown",
   "id": "9ef74ffe-135a-4d63-8a01-d8c63fe2f52b",
   "metadata": {},
   "source": [
    "3. **Simple Functions**\n",
    "    - Create a function `get_category(item_name)` that returns the category of an item: \"fruit\", \"dairy\", \"bakery\", or \"unknown\".\n",
    "   "
   ]
  },
  {
   "cell_type": "code",
   "execution_count": 7,
   "id": "d5ddc701-ebb4-437c-a261-c13caeee25a3",
   "metadata": {},
   "outputs": [],
   "source": [
    "def get_category(item_name):\n",
    "    if item_name in fruits:\n",
    "        print(\"fruit\")\n",
    "    elif item_name in dairy:\n",
    "        print(\"dairy\")\n",
    "    elif item_name in bakery:\n",
    "        print(\"bakery\")\n",
    "    else:\n",
    "        print(\"unknown\")\n",
    "    return     "
   ]
  },
  {
   "cell_type": "code",
   "execution_count": 8,
   "id": "22279f6d-2e63-47ba-8980-77c9ef374fd5",
   "metadata": {},
   "outputs": [
    {
     "name": "stdout",
     "output_type": "stream",
     "text": [
      "dairy\n"
     ]
    }
   ],
   "source": [
    "get_category(\"eggs\")"
   ]
  },
  {
   "cell_type": "markdown",
   "id": "ae1c7b7c-8832-4a53-bbdc-3519b4a28894",
   "metadata": {},
   "source": [
    " - Create a function `calculate_item_total(item_name)` that calculates the total cost of an item in the cart (quantity * price)."
   ]
  },
  {
   "cell_type": "code",
   "execution_count": 9,
   "id": "0b3829c5-5ed8-43f2-b996-362d29a826d8",
   "metadata": {},
   "outputs": [],
   "source": [
    "def calculate_item_total(item_name):\n",
    "    return cart.count(item_name)*price_dict[item_name]"
   ]
  },
  {
   "cell_type": "code",
   "execution_count": 10,
   "id": "6f3ae9fd-3583-4d16-8c5b-4b79c5f2c7da",
   "metadata": {},
   "outputs": [
    {
     "data": {
      "text/plain": [
       "6.0"
      ]
     },
     "execution_count": 10,
     "metadata": {},
     "output_type": "execute_result"
    }
   ],
   "source": [
    "calculate_item_total(\"milk\")"
   ]
  },
  {
   "cell_type": "code",
   "execution_count": null,
   "id": "f8cf5516-9978-4b35-b239-d2fe69008e0a",
   "metadata": {},
   "outputs": [],
   "source": []
  }
 ],
 "metadata": {
  "kernelspec": {
   "display_name": "Python 3 (ipykernel)",
   "language": "python",
   "name": "python3"
  },
  "language_info": {
   "codemirror_mode": {
    "name": "ipython",
    "version": 3
   },
   "file_extension": ".py",
   "mimetype": "text/x-python",
   "name": "python",
   "nbconvert_exporter": "python",
   "pygments_lexer": "ipython3",
   "version": "3.11.11"
  }
 },
 "nbformat": 4,
 "nbformat_minor": 5
}
