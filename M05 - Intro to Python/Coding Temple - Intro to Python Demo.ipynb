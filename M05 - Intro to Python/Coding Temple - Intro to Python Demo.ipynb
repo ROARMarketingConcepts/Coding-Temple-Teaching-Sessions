{
 "cells": [
  {
   "cell_type": "markdown",
   "id": "31b9a63c-0a8d-4838-82fa-c2f38e9c43a9",
   "metadata": {},
   "source": [
    "# Introduction to Python Demo"
   ]
  },
  {
   "cell_type": "markdown",
   "id": "817e6cb4-87ec-4e54-8567-6eb9e5762cfe",
   "metadata": {},
   "source": [
    "### Variables"
   ]
  },
  {
   "cell_type": "code",
   "execution_count": 1,
   "id": "0c1b3c0a-05df-403c-a7d9-af67dd382d1a",
   "metadata": {},
   "outputs": [
    {
     "name": "stdout",
     "output_type": "stream",
     "text": [
      "Revenue type: <class 'float'>\n",
      "Customer count type: <class 'int'>\n",
      "Average purchase amount: $288.46\n"
     ]
    }
   ],
   "source": [
    "revenue = 150000.50  # float\n",
    "customer_count = 520  # integer\n",
    "is_profitable = True  # boolean\n",
    "store_name = \"Data Mart\"  # string\n",
    "\n",
    "# Show type checking\n",
    "print(f\"Revenue type: {type(revenue)}\")\n",
    "print(f\"Customer count type: {type(customer_count)}\")\n",
    "\n",
    "# Basic operations\n",
    "average_purchase = revenue / customer_count\n",
    "print(f\"Average purchase amount: ${average_purchase:.2f}\")"
   ]
  },
  {
   "cell_type": "markdown",
   "id": "eb659360-ab51-4b7e-b40c-5216ecc34beb",
   "metadata": {},
   "source": [
    "### Lists"
   ]
  },
  {
   "cell_type": "code",
   "execution_count": 2,
   "id": "90e9672f-1493-4165-8133-969072735fdc",
   "metadata": {},
   "outputs": [
    {
     "name": "stdout",
     "output_type": "stream",
     "text": [
      "Total sales: $301500\n",
      "Highest monthly sale: $54800\n",
      "Average monthly sale: $50250.00\n",
      "Q1 Sales: [45000, 52000, 49000]\n"
     ]
    }
   ],
   "source": [
    "monthly_sales = [45000, 52000, 49000, 47500, 53200, 54800]\n",
    "\n",
    "# List operations\n",
    "print(f\"Total sales: ${sum(monthly_sales)}\")\n",
    "print(f\"Highest monthly sale: ${max(monthly_sales)}\")\n",
    "print(f\"Average monthly sale: ${sum(monthly_sales)/len(monthly_sales):.2f}\")\n",
    "\n",
    "# List slicing\n",
    "q1_sales = monthly_sales[:3]\n",
    "print(f\"Q1 Sales: {q1_sales}\")\n",
    "\n",
    "# List methods\n",
    "monthly_sales.append(51000)  # Adding July sales\n",
    "monthly_sales.sort(reverse=True)  # Sort in descending order"
   ]
  },
  {
   "cell_type": "markdown",
   "id": "d09b4a78-4ba6-4e11-b99c-b34cc8002d66",
   "metadata": {},
   "source": [
    "### Dictionaries"
   ]
  },
  {
   "cell_type": "code",
   "execution_count": 3,
   "id": "8ea77b88-7a94-4fcf-af2b-7708dfefbc3d",
   "metadata": {},
   "outputs": [
    {
     "name": "stdout",
     "output_type": "stream",
     "text": [
      "Categories: dict_keys(['Electronics', 'Clothing', 'Food', 'Books'])\n",
      "Sales figures: dict_values([25000, 15000, 35000, 12000])\n"
     ]
    }
   ],
   "source": [
    "product_sales = {\n",
    "    \"Electronics\": 25000,\n",
    "    \"Clothing\": 15000,\n",
    "    \"Food\": 35000,\n",
    "    \"Books\": 12000\n",
    "}\n",
    "\n",
    "# Dictionary operations\n",
    "print(f\"Categories: {product_sales.keys()}\")\n",
    "print(f\"Sales figures: {product_sales.values()}\")\n",
    "\n",
    "# Adding new category\n",
    "product_sales[\"Sports\"] = 18000\n",
    "\n",
    "# Nested data structure\n",
    "store_data = {\n",
    "    \"location\": \"Downtown\",\n",
    "    \"sales\": product_sales,\n",
    "    \"employees\": [\"John\", \"Sarah\", \"Mike\"]\n",
    "}"
   ]
  },
  {
   "cell_type": "markdown",
   "id": "47081e55-29f1-44e5-bb31-01e42eaae693",
   "metadata": {},
   "source": [
    "### Boolean Analysis"
   ]
  },
  {
   "cell_type": "code",
   "execution_count": 4,
   "id": "25002391-291c-46c5-af69-9a6aeda3e905",
   "metadata": {},
   "outputs": [
    {
     "name": "stdout",
     "output_type": "stream",
     "text": [
      "Electronics is a high-performing category\n",
      "Clothing needs improvement\n",
      "Food is a high-performing category\n",
      "Books needs improvement\n",
      "Sports is performing well\n",
      "Above average categories: ['Electronics', 'Food']\n"
     ]
    }
   ],
   "source": [
    "# Conditional analysis\n",
    "for category, sales in product_sales.items():\n",
    "    if sales > 20000:\n",
    "        print(f\"{category} is a high-performing category\")\n",
    "    elif sales > 15000:\n",
    "        print(f\"{category} is performing well\")\n",
    "    else:\n",
    "        print(f\"{category} needs improvement\")\n",
    "\n",
    "# List comprehension for sales analysis\n",
    "above_average = [cat for cat, sale in product_sales.items()\n",
    "                 if sale > sum(product_sales.values())/len(product_sales)]\n",
    "print(f\"Above average categories: {above_average}\")"
   ]
  },
  {
   "cell_type": "markdown",
   "id": "c4e9ad75-00b5-41c8-8882-f73126eda2e1",
   "metadata": {},
   "source": [
    "### Functions"
   ]
  },
  {
   "cell_type": "code",
   "execution_count": 5,
   "id": "d0eeabf5-f8a2-4a60-82fa-6bd70840f8ff",
   "metadata": {},
   "outputs": [
    {
     "name": "stdout",
     "output_type": "stream",
     "text": [
      "Sales growth: 15.6%\n",
      "Good performing categories: ['Electronics', 'Food']\n"
     ]
    }
   ],
   "source": [
    "def calculate_growth(old_value, new_value):\n",
    "    \"\"\"Calculate percentage growth between two values\"\"\"\n",
    "    return ((new_value - old_value) / old_value) * 100\n",
    "\n",
    "def analyze_sales_performance(sales_dict, threshold):\n",
    "    \"\"\"Analyze sales performance against a threshold\"\"\"\n",
    "    performing_categories = []\n",
    "    for category, sale in sales_dict.items():\n",
    "        if sale >= threshold:\n",
    "            performing_categories.append(category)\n",
    "    return performing_categories\n",
    "\n",
    "# Using the functions\n",
    "old_sales = 45000\n",
    "new_sales = 52000\n",
    "growth = calculate_growth(old_sales, new_sales)\n",
    "print(f\"Sales growth: {growth:.1f}%\")\n",
    "\n",
    "# Analyze categories above 20000\n",
    "good_performers = analyze_sales_performance(product_sales, 20000)\n",
    "print(f\"Good performing categories: {good_performers}\")"
   ]
  },
  {
   "cell_type": "code",
   "execution_count": null,
   "id": "307284dd-650e-4ee9-a5f0-9974209734b1",
   "metadata": {},
   "outputs": [],
   "source": []
  },
  {
   "cell_type": "code",
   "execution_count": null,
   "id": "04b3a3ca-0ebf-4909-b663-cab6df156f67",
   "metadata": {},
   "outputs": [],
   "source": []
  }
 ],
 "metadata": {
  "kernelspec": {
   "display_name": "Python 3 (ipykernel)",
   "language": "python",
   "name": "python3"
  },
  "language_info": {
   "codemirror_mode": {
    "name": "ipython",
    "version": 3
   },
   "file_extension": ".py",
   "mimetype": "text/x-python",
   "name": "python",
   "nbconvert_exporter": "python",
   "pygments_lexer": "ipython3",
   "version": "3.11.11"
  }
 },
 "nbformat": 4,
 "nbformat_minor": 5
}
